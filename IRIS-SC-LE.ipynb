{
 "cells": [
  {
   "cell_type": "code",
   "execution_count": 7,
   "metadata": {},
   "outputs": [],
   "source": [
    "from sklearn import datasets\n",
    "import numpy as np\n",
    "import pandas as pdf\n",
    "import matplotlib.pyplot as plt\n",
    "from sklearn.metrics import pairwise_distances\n",
    "import sympy as sym\n",
    "from sklearn.cluster import SpectralClustering, KMeans\n",
    "from scipy.spatial import distance\n",
    "import sympy as sym\n",
    "from scipy.sparse import csr_matrix \n",
    "k=4\n",
    "iris = datasets.load_iris()\n",
    "X = iris.data  \n",
    "y = iris.target"
   ]
  },
  {
   "cell_type": "code",
   "execution_count": 8,
   "metadata": {},
   "outputs": [
    {
     "data": {
      "text/plain": [
       "0.20248889923095703"
      ]
     },
     "execution_count": 8,
     "metadata": {},
     "output_type": "execute_result"
    }
   ],
   "source": [
    "import time \n",
    "t_begin = time.time()\n",
    "A= pairwise_distances(X, metric=\"euclidean\")\n",
    "DNN, NN = np.sort(A), np.argsort(A)\n",
    "NN = NN[:,1:k+1]\n",
    "DNN = DNN[:,1:k+1]\n",
    "W=csr_matrix((X.shape[0], X.shape[0])).toarray()\n",
    "#W = np.zeros((X.shape[0], X.shape[0]))\n",
    "for i in range(W.shape[0]):\n",
    "    for j in range(W.shape[0]):\n",
    "        if (j in NN[i])or(i in NN[j]):\n",
    "            W[i,j] = np.exp(-(A[i,j]**2)/1000000)\n",
    "        else:\n",
    "            W[i][j]=0\n",
    "D = np.diag(np.sum(np.array(W), axis=1))\n",
    "L = D - W\n",
    "e1, v = np.linalg.eig(L)\n",
    "idx=np.argsort(e1)\n",
    "e1=e1[idx]\n",
    "eps=np.max(e1)\n",
    "L=L/eps\n",
    "XTX=np.dot(X,X.T)\n",
    "e2,v2 = np.linalg.eig(XTX)\n",
    "idx2=np.argsort(e2)\n",
    "e2=e2[idx2]\n",
    "lam=np.max(e2)\n",
    "XTX=XTX/lam\n",
    "B=0.5\n",
    "GB=(1-B)*(np.identity(X.shape[0])-XTX)+(B*L)\n",
    "e3, v3 = np.linalg.eig(GB)\n",
    "idx3=np.argsort(e3)\n",
    "e3=e3[idx3]\n",
    "U = np.array(v3.real[:,idx3[0:3]])\n",
    "km = KMeans(init='k-means++', n_clusters=3)\n",
    "km.fit(U)\n",
    "t_end = time.time()\n",
    "t_end-t_begin"
   ]
  },
  {
   "cell_type": "code",
   "execution_count": 9,
   "metadata": {},
   "outputs": [
    {
     "data": {
      "text/plain": [
       "0.8850620966553382"
      ]
     },
     "execution_count": 9,
     "metadata": {},
     "output_type": "execute_result"
    }
   ],
   "source": [
    "from sklearn.metrics.cluster import normalized_mutual_info_score\n",
    "normalized_mutual_info_score(y,km.labels_,average_method='arithmetic')"
   ]
  },
  {
   "cell_type": "code",
   "execution_count": 10,
   "metadata": {},
   "outputs": [
    {
     "data": {
      "text/plain": [
       "0.9037675791580496"
      ]
     },
     "execution_count": 10,
     "metadata": {},
     "output_type": "execute_result"
    }
   ],
   "source": [
    "from sklearn.metrics.cluster import adjusted_rand_score\n",
    "adjusted_rand_score(y,km.labels_)"
   ]
  },
  {
   "cell_type": "code",
   "execution_count": null,
   "metadata": {},
   "outputs": [],
   "source": []
  },
  {
   "cell_type": "code",
   "execution_count": null,
   "metadata": {},
   "outputs": [],
   "source": []
  }
 ],
 "metadata": {
  "kernelspec": {
   "display_name": "Python 3",
   "language": "python",
   "name": "python3"
  },
  "language_info": {
   "codemirror_mode": {
    "name": "ipython",
    "version": 3
   },
   "file_extension": ".py",
   "mimetype": "text/x-python",
   "name": "python",
   "nbconvert_exporter": "python",
   "pygments_lexer": "ipython3",
   "version": "3.8.5"
  }
 },
 "nbformat": 4,
 "nbformat_minor": 2
}
